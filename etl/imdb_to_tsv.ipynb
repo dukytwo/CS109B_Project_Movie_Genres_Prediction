{
 "cells": [
  {
   "cell_type": "markdown",
   "metadata": {},
   "source": [
    "We will convert the data in the imdb summary file into tab delimited format.\n",
    "\n",
    "1. Get all the genres from the file."
   ]
  },
  {
   "cell_type": "code",
   "execution_count": 1,
   "metadata": {
    "collapsed": false
   },
   "outputs": [
    {
     "name": "stderr",
     "output_type": "stream",
     "text": [
      "/Users/varunigang/anaconda/lib/python2.7/site-packages/ipykernel/__main__.py:9: DeprecationWarning: the sets module is deprecated\n"
     ]
    },
    {
     "data": {
      "text/plain": [
       "Set(['Sci-Fi', 'Crime', 'Romance', 'Animation', 'Music', 'Comedy', 'War', 'Horror', 'Film-Noir', 'Western', 'Adult', 'News', 'Reality-TV', 'Thriller', 'Adventure', 'Mystery', 'Short', 'Talk-Show', 'Drama', 'Action', 'Documentary', 'Musical', 'History', 'Family', 'Fantasy', 'Sport', 'Biography'])"
      ]
     },
     "execution_count": 1,
     "metadata": {},
     "output_type": "execute_result"
    }
   ],
   "source": [
    "lines = []\n",
    "with open(\"data/imdb_movie_summary_sql.txt\") as file:\n",
    "    for line in file:\n",
    "        line = line.strip()\n",
    "        lines.append(line)\n",
    "\n",
    "# lets get all the genres in the file: \n",
    "import re\n",
    "from sets import Set\n",
    "genres = Set()\n",
    "for line in lines:\n",
    "    for l in line.split(\"), (\"):\n",
    "        l = re.sub(\"u'|'|\\[|\\]\", \"\", l)\n",
    "        if \"genres\" == l.split(\",\")[0]:\n",
    "            gs = l.split(\",\")[1].strip()\n",
    "            for g in gs.split(\",\"):\n",
    "                genres.add(str(g))\n",
    "genres"
   ]
  },
  {
   "cell_type": "markdown",
   "metadata": {},
   "source": [
    " 2. Add these to the list of columns we want to extract:"
   ]
  },
  {
   "cell_type": "code",
   "execution_count": 2,
   "metadata": {
    "collapsed": true
   },
   "outputs": [],
   "source": [
    "imdb_columns = [\"IMDB_ID\", \"rating\", \"votes\", \"year\", \"canonical title\", \"kind\"]\n",
    "imdb_columns.extend(genres)"
   ]
  },
  {
   "cell_type": "markdown",
   "metadata": {},
   "source": [
    " 3. Extract imdb clolumsn from the list extracted from file:"
   ]
  },
  {
   "cell_type": "code",
   "execution_count": null,
   "metadata": {
    "collapsed": false
   },
   "outputs": [],
   "source": [
    "import re\n",
    "\n",
    "# save the movie information to tsv file\n",
    "imdbTsv = open('data/imdb.tsv', 'w')\n",
    "\n",
    "#print('\\t'.join([str(x).replace(\" \", \"_\") for x in imdb_columns])) # print the column name\n",
    "imdbTsv.write(\"%s\\n\" % '\\t'.join([str(x).replace(\" \", \"_\") for x in imdb_columns]))\n",
    "movies_populated = Set()\n",
    "\n",
    "for line in lines:\n",
    "    data = {}\n",
    "    columns_present = Set()\n",
    "    \n",
    "    for l in line.split(\"), (\"):\n",
    "        l = re.sub(\"u'|'|\\[|\\]|\\(|\\)\", \"\", l)\n",
    "        if len(l.split(\",\")) >= 2:\n",
    "            l_key = l.split(\",\")[0]\n",
    "            l_value = l.split(\",\")[1].strip()\n",
    "\n",
    "            for c in imdb_columns:\n",
    "                if c == l_key:\n",
    "                    data[c] = l_value\n",
    "                    columns_present.add(c)\n",
    "\n",
    "            if l_key == 'genres':\n",
    "                l_value = l.split(\",\")[1:]\n",
    "                for g in l_value:\n",
    "                    if g.strip() in imdb_columns:\n",
    "                        data[g.strip()] = 1\n",
    "                        columns_present.add(g.strip())\n",
    "                    \n",
    "    for g in set(imdb_columns).difference(columns_present):\n",
    "        data[g] = 0\n",
    "    \n",
    "    if data[\"IMDB_ID\"] not in movies_populated:\n",
    "#         print('\\t'.join([str(data[x]) for x in imdb_columns]))\n",
    "        imdbTsv.write(\"%s\\n\" % '\\t'.join([str(data[x]) for x in imdb_columns]))\n",
    "        movies_populated.add(data[\"IMDB_ID\"])"
   ]
  }
 ],
 "metadata": {
  "kernelspec": {
   "display_name": "Python 2",
   "language": "python",
   "name": "python2"
  },
  "language_info": {
   "codemirror_mode": {
    "name": "ipython",
    "version": 2
   },
   "file_extension": ".py",
   "mimetype": "text/x-python",
   "name": "python",
   "nbconvert_exporter": "python",
   "pygments_lexer": "ipython2",
   "version": "2.7.11"
  }
 },
 "nbformat": 4,
 "nbformat_minor": 0
}
